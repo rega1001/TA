{
 "cells": [
  {
   "cell_type": "code",
   "execution_count": 12,
   "metadata": {},
   "outputs": [],
   "source": [
    "import cv2\n",
    "import numpy as np\n",
    "import matplotlib.pyplot as plt\n",
    "from skimage import data, img_as_float\n",
    "from skimage.metrics import structural_similarity as ssim"
   ]
  },
  {
   "cell_type": "code",
   "execution_count": 13,
   "metadata": {},
   "outputs": [],
   "source": [
    "def plot_images(*imgs, figsize=(30,20), hide_ticks=False):\n",
    "    f = plt.figure(figsize=figsize)\n",
    "    width = np.ceil(np.sqrt(len(imgs)))\n",
    "    height = np.ceil(len(imgs) / width)\n",
    "    for i, img in enumerate(imgs, 1):\n",
    "        ax = f.add_subplot(int(height), int(width), i)\n",
    "        if hide_ticks:\n",
    "            ax.axis('off')\n",
    "        ax.imshow(cv2.cvtColor(img, cv2.COLOR_BGR2RGB))"
   ]
  },
  {
   "cell_type": "code",
   "execution_count": 90,
   "metadata": {},
   "outputs": [],
   "source": [
    "def ssim_compare(img1_path, img2_path) :\n",
    "    img1 = cv2.imread(img1_path, 0)\n",
    "    img2 = cv2.imread(img2_path, 0)\n",
    "    dim = (23300,12700)\n",
    "    # print(\"Img1 Resolution:\", img1.shape)\n",
    "    # print(\"Img2 Resolution:\", img2.shape)\n",
    "    img1 = cv2.resize(img1, dim)\n",
    "    img2 = cv2.resize(img2, dim)\n",
    "    # plot_images(img1,img2)\n",
    "    # print(\"Img1 Res :\", img1.shape)\n",
    "    # print(\"Img2 Res :\", img2.shape)\n",
    "    ssim_score, dif = ssim(img1, img2, full=True)\n",
    "    return ssim_score"
   ]
  },
  {
   "cell_type": "code",
   "execution_count": 85,
   "metadata": {},
   "outputs": [
    {
     "name": "stdout",
     "output_type": "stream",
     "text": [
      "0.830328242306091\n",
      "0.8297321853386567\n",
      "0.8192155966504975\n",
      "0.8295953793675205\n",
      "0.8287440973874637\n",
      "0.8334613505704053\n"
     ]
    }
   ],
   "source": [
    "ssim_val = ssim_compare('SSIM/Asli01_90.png', 'SSIM/Uji01_90.png')\n",
    "print(ssim_val)\n",
    "ssim_val = ssim_compare('SSIM/Asli02_90.png', 'SSIM/Uji02_90.png')\n",
    "print(ssim_val)\n",
    "ssim_val = ssim_compare('SSIM/Asli03_90.png', 'SSIM/Uji03_90.png')\n",
    "print(ssim_val)\n",
    "ssim_val = ssim_compare('SSIM/Asli04_90.png', 'SSIM/Uji04_90.png')\n",
    "print(ssim_val)\n",
    "ssim_val = ssim_compare('SSIM/Asli05_90.png', 'SSIM/Uji05_90.png')\n",
    "print(ssim_val)\n",
    "ssim_val = ssim_compare('SSIM/Asli06_90.png', 'SSIM/Uji06_90.png')\n",
    "print(ssim_val)"
   ]
  },
  {
   "cell_type": "code",
   "execution_count": 91,
   "metadata": {},
   "outputs": [
    {
     "name": "stdout",
     "output_type": "stream",
     "text": [
      "0.8149327990560579\n"
     ]
    }
   ],
   "source": [
    "ssim_val = ssim_compare('SSIM/Asli07_90.png', 'SSIM/Uji07_90.png')\n",
    "print(ssim_val)"
   ]
  }
 ],
 "metadata": {
  "kernelspec": {
   "display_name": "Python 3",
   "language": "python",
   "name": "python3"
  },
  "language_info": {
   "codemirror_mode": {
    "name": "ipython",
    "version": 3
   },
   "file_extension": ".py",
   "mimetype": "text/x-python",
   "name": "python",
   "nbconvert_exporter": "python",
   "pygments_lexer": "ipython3",
   "version": "3.12.3"
  }
 },
 "nbformat": 4,
 "nbformat_minor": 2
}
