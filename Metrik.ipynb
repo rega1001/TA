{
 "cells": [
  {
   "cell_type": "code",
   "execution_count": 11,
   "metadata": {},
   "outputs": [],
   "source": [
    "import cv2\n",
    "from skimage import data, img_as_float\n",
    "from skimage.metrics import structural_similarity as ssim"
   ]
  },
  {
   "cell_type": "code",
   "execution_count": 12,
   "metadata": {},
   "outputs": [],
   "source": [
    "def ssim_compare(img1_path, img2_path) :\n",
    "    img1 = cv2.imread(img1_path, 0)\n",
    "    img2 = cv2.imread(img2_path, 0)\n",
    "    dim = (6022,5513)\n",
    "    # print(\"Img1 Resolution:\", img1.shape)\n",
    "    # print(\"Img2 Resolution:\", img2.shape)\n",
    "    img1 = cv2.resize(img1, dim)\n",
    "    img2 = cv2.resize(img2, dim)\n",
    "    # print(\"Img1 Res :\", img1.shape)\n",
    "    # print(\"Img2 Res :\", img2.shape)\n",
    "    ssim_score, dif = ssim(img1, img2, full=True)\n",
    "    return ssim_score"
   ]
  },
  {
   "cell_type": "code",
   "execution_count": 14,
   "metadata": {},
   "outputs": [
    {
     "name": "stdout",
     "output_type": "stream",
     "text": [
      "0.9475588489273584\n"
     ]
    }
   ],
   "source": [
    "ssim_val = ssim_compare('SSIM/Asli2.png', 'SSIM/Cek2.png')\n",
    "print(ssim_val)"
   ]
  }
 ],
 "metadata": {
  "kernelspec": {
   "display_name": "Python 3",
   "language": "python",
   "name": "python3"
  },
  "language_info": {
   "codemirror_mode": {
    "name": "ipython",
    "version": 3
   },
   "file_extension": ".py",
   "mimetype": "text/x-python",
   "name": "python",
   "nbconvert_exporter": "python",
   "pygments_lexer": "ipython3",
   "version": "3.12.3"
  }
 },
 "nbformat": 4,
 "nbformat_minor": 2
}
